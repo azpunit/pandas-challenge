{
 "cells": [
  {
   "cell_type": "markdown",
   "metadata": {},
   "source": [
    "### Note\n",
    "* Instructions have been included for each segment. You do not have to follow them exactly, but they are included to help you think through the steps."
   ]
  },
  {
   "cell_type": "code",
   "execution_count": 14,
   "metadata": {},
   "outputs": [],
   "source": [
    "# The following code allowed us to use pandas.\n",
    "import pandas as pd\n",
    "\n",
    "# The following code allowed us to read our purchase_data.csv excel file.\n",
    "file_to_load = \"/Users/azpunit/Desktop/pandas-challenge/HeroesOfPymoli/Resources/purchase_data.csv\"\n",
    "\n",
    "# The following code allowed us to store our file into a dataframe. \n",
    "purchase_data = pd.read_csv(file_to_load)"
   ]
  },
  {
   "cell_type": "markdown",
   "metadata": {},
   "source": [
    "## Player Count"
   ]
  },
  {
   "cell_type": "markdown",
   "metadata": {},
   "source": [
    "* Display the total number of players\n"
   ]
  },
  {
   "cell_type": "code",
   "execution_count": 15,
   "metadata": {},
   "outputs": [
    {
     "output_type": "execute_result",
     "data": {
      "text/plain": "   Total Players\n0            576",
      "text/html": "<div>\n<style scoped>\n    .dataframe tbody tr th:only-of-type {\n        vertical-align: middle;\n    }\n\n    .dataframe tbody tr th {\n        vertical-align: top;\n    }\n\n    .dataframe thead th {\n        text-align: right;\n    }\n</style>\n<table border=\"1\" class=\"dataframe\">\n  <thead>\n    <tr style=\"text-align: right;\">\n      <th></th>\n      <th>Total Players</th>\n    </tr>\n  </thead>\n  <tbody>\n    <tr>\n      <th>0</th>\n      <td>576</td>\n    </tr>\n  </tbody>\n</table>\n</div>"
     },
     "metadata": {},
     "execution_count": 15
    }
   ],
   "source": [
    "# The following code allowed us to calculate the total number of players. \n",
    "total_players = len(purchase_data[\"SN\"].unique())\n",
    "\n",
    "# The following code allowed us to create our dataframe including the total number of players. \n",
    "total_players_table = pd.DataFrame({\"Total Players\": [total_players]})\n",
    "\n",
    "total_players_table"
   ]
  },
  {
   "cell_type": "markdown",
   "metadata": {},
   "source": [
    "## Purchasing Analysis (Total)"
   ]
  },
  {
   "cell_type": "markdown",
   "metadata": {},
   "source": [
    "* Run basic calculations to obtain number of unique items, average price, etc.\n",
    "\n",
    "\n",
    "* Create a summary data frame to hold the results\n",
    "\n",
    "\n",
    "* Optional: give the displayed data cleaner formatting\n",
    "\n",
    "\n",
    "* Display the summary data frame\n"
   ]
  },
  {
   "cell_type": "code",
   "execution_count": 16,
   "metadata": {
    "scrolled": true
   },
   "outputs": [
    {
     "output_type": "execute_result",
     "data": {
      "text/plain": "   Number of Unique Items Average Price  Number of Purchases Total Revenue\n0                     179         $3.05                  780     $2,379.77",
      "text/html": "<div>\n<style scoped>\n    .dataframe tbody tr th:only-of-type {\n        vertical-align: middle;\n    }\n\n    .dataframe tbody tr th {\n        vertical-align: top;\n    }\n\n    .dataframe thead th {\n        text-align: right;\n    }\n</style>\n<table border=\"1\" class=\"dataframe\">\n  <thead>\n    <tr style=\"text-align: right;\">\n      <th></th>\n      <th>Number of Unique Items</th>\n      <th>Average Price</th>\n      <th>Number of Purchases</th>\n      <th>Total Revenue</th>\n    </tr>\n  </thead>\n  <tbody>\n    <tr>\n      <th>0</th>\n      <td>179</td>\n      <td>$3.05</td>\n      <td>780</td>\n      <td>$2,379.77</td>\n    </tr>\n  </tbody>\n</table>\n</div>"
     },
     "metadata": {},
     "execution_count": 16
    }
   ],
   "source": [
    "# The following code allowed us to calculate all the numerical values needed to create our dataframe.\n",
    "number_of_unique_items = len(purchase_data[\"Item Name\"].unique())\n",
    "\n",
    "raw_average_price = round(purchase_data[\"Price\"].mean(), 2)\n",
    "average_price = f\"${raw_average_price}\"\n",
    "\n",
    "number_of_purchases = purchase_data[\"Purchase ID\"].count()\n",
    "\n",
    "raw_total_revenue = purchase_data[\"Price\"].sum()\n",
    "intermediate_total_revenue = (\"{:,}\").format(raw_total_revenue)\n",
    "total_revenue = f\"${intermediate_total_revenue}\"\n",
    "\n",
    "\n",
    "# The following code allowed us to create our dataframe including the previously stored variables.\n",
    "purchasing_analysis_total = pd.DataFrame({ \"Number of Unique Items\": [number_of_unique_items],\n",
    "                                           \"Average Price\": average_price,\n",
    "                                           \"Number of Purchases\": number_of_purchases,\n",
    "                                           \"Total Revenue\": total_revenue\n",
    "                                         })\n",
    "                                         \n",
    "purchasing_analysis_total"
   ]
  },
  {
   "cell_type": "markdown",
   "metadata": {},
   "source": [
    "## Gender Demographics"
   ]
  },
  {
   "cell_type": "markdown",
   "metadata": {},
   "source": [
    "* Percentage and Count of Male Players\n",
    "\n",
    "\n",
    "* Percentage and Count of Female Players\n",
    "\n",
    "\n",
    "* Percentage and Count of Other / Non-Disclosed\n",
    "\n",
    "\n"
   ]
  },
  {
   "cell_type": "code",
   "execution_count": 17,
   "metadata": {},
   "outputs": [
    {
     "output_type": "execute_result",
     "data": {
      "text/plain": "                       Total Count Percentage of Players\nMale                           484                84.03%\nFemale                          81                14.06%\nOther / Non-Disclosed           11                 1.91%",
      "text/html": "<div>\n<style scoped>\n    .dataframe tbody tr th:only-of-type {\n        vertical-align: middle;\n    }\n\n    .dataframe tbody tr th {\n        vertical-align: top;\n    }\n\n    .dataframe thead th {\n        text-align: right;\n    }\n</style>\n<table border=\"1\" class=\"dataframe\">\n  <thead>\n    <tr style=\"text-align: right;\">\n      <th></th>\n      <th>Total Count</th>\n      <th>Percentage of Players</th>\n    </tr>\n  </thead>\n  <tbody>\n    <tr>\n      <th>Male</th>\n      <td>484</td>\n      <td>84.03%</td>\n    </tr>\n    <tr>\n      <th>Female</th>\n      <td>81</td>\n      <td>14.06%</td>\n    </tr>\n    <tr>\n      <th>Other / Non-Disclosed</th>\n      <td>11</td>\n      <td>1.91%</td>\n    </tr>\n  </tbody>\n</table>\n</div>"
     },
     "metadata": {},
     "execution_count": 17
    }
   ],
   "source": [
    "# The following code allowed us to set the number of rows for our data and store the columns that are\n",
    "# going to be used to retreive our data for calculating our variables and drawing our dataframe.\n",
    "index = [\"Male\", \"Female\", \"Other / Non-Disclosed\"]\n",
    "columns = [\"Purchase ID\", \"SN\", \"Age\", \"Gender\", \"Item ID\", \"Item Name\", \"Price\"]\n",
    "\n",
    "# The following code allowed us to calculate the total unique count of the players. \n",
    "grouped_purchases = purchase_data.groupby([\"SN\", \"Gender\"])\n",
    "total_purchases = len(grouped_purchases)\n",
    "\n",
    "# The following code allowed us to calculate the numerical values of the first row of our dataframe.\n",
    "male_purchases = purchase_data.loc[purchase_data[\"Gender\"] == \"Male\", columns]\n",
    "grouped_male_purchases = male_purchases.groupby([\"SN\", \"Gender\"])\n",
    "total_male_purchases = len(grouped_male_purchases)\n",
    "raw_percentage_male_purchases = (\"{:.2f}\").format((total_male_purchases/total_purchases)*100)\n",
    "percentage_male_purchases = f\"{raw_percentage_male_purchases}%\"\n",
    "\n",
    "# The following code allowed us to calculate the numerical values of the second row of our dataframe.\n",
    "female_purchases = purchase_data.loc[purchase_data[\"Gender\"] == \"Female\", columns]\n",
    "grouped_female_purchases = female_purchases.groupby([\"SN\", \"Gender\"])\n",
    "total_female_purchases = len(grouped_female_purchases)\n",
    "raw_percentage_female_purchases = (\"{:.2f}\").format((total_female_purchases/total_purchases)*100)\n",
    "percentage_female_purchases = f\"{raw_percentage_female_purchases}%\"\n",
    "\n",
    "# The following code allowed us to calculate the numerical values of the third row of our dataframe.\n",
    "other_purchases = purchase_data.loc[purchase_data[\"Gender\"] == \"Other / Non-Disclosed\", columns]\n",
    "grouped_other_purchases = other_purchases.groupby([\"SN\", \"Gender\"])\n",
    "total_other_purchases = len(grouped_other_purchases)\n",
    "raw_percentage_other_purchases = (\"{:.2f}\").format((total_other_purchases/total_purchases)*100)\n",
    "percentage_other_purchases = f\"{raw_percentage_other_purchases}%\"\n",
    "\n",
    "# The following code allowed us to create our dataframe including the previously stored variables and to set our index list as the index.\n",
    "gender_demographics = pd.DataFrame({\"Total Count\": [total_male_purchases, total_female_purchases, total_other_purchases],\n",
    "                                    \"Percentage of Players\": [percentage_male_purchases, percentage_female_purchases, percentage_other_purchases]},\n",
    "                                    index=index)\n",
    "\n",
    "gender_demographics              "
   ]
  },
  {
   "cell_type": "markdown",
   "metadata": {},
   "source": [
    "\n",
    "## Purchasing Analysis (Gender)"
   ]
  },
  {
   "cell_type": "markdown",
   "metadata": {},
   "source": [
    "* Run basic calculations to obtain purchase count, avg. purchase price, avg. purchase total per person etc. by gender\n",
    "\n",
    "\n",
    "\n",
    "\n",
    "* Create a summary data frame to hold the results\n",
    "\n",
    "\n",
    "* Optional: give the displayed data cleaner formatting\n",
    "\n",
    "\n",
    "* Display the summary data frame"
   ]
  },
  {
   "cell_type": "code",
   "execution_count": 18,
   "metadata": {},
   "outputs": [
    {
     "output_type": "execute_result",
     "data": {
      "text/plain": "<pandas.io.formats.style.Styler at 0x11e41c390>",
      "text/html": "<style  type=\"text/css\" >\n</style><table id=\"T_4d05e3e6_c1b7_11ea_9b01_acbc327c7113\" ><thead>    <tr>        <th class=\"blank level0\" ></th>        <th class=\"col_heading level0 col0\" >Purchase Count</th>        <th class=\"col_heading level0 col1\" >Average Purchase Price</th>        <th class=\"col_heading level0 col2\" >Total Purchase Value</th>        <th class=\"col_heading level0 col3\" >Avg Total Purchase per Person</th>    </tr>    <tr>        <th class=\"index_name level0\" >Gender</th>        <th class=\"blank\" ></th>        <th class=\"blank\" ></th>        <th class=\"blank\" ></th>        <th class=\"blank\" ></th>    </tr></thead><tbody>\n                <tr>\n                        <th id=\"T_4d05e3e6_c1b7_11ea_9b01_acbc327c7113level0_row0\" class=\"row_heading level0 row0\" >Female</th>\n                        <td id=\"T_4d05e3e6_c1b7_11ea_9b01_acbc327c7113row0_col0\" class=\"data row0 col0\" >113</td>\n                        <td id=\"T_4d05e3e6_c1b7_11ea_9b01_acbc327c7113row0_col1\" class=\"data row0 col1\" >$3.20</td>\n                        <td id=\"T_4d05e3e6_c1b7_11ea_9b01_acbc327c7113row0_col2\" class=\"data row0 col2\" >$361.94</td>\n                        <td id=\"T_4d05e3e6_c1b7_11ea_9b01_acbc327c7113row0_col3\" class=\"data row0 col3\" >$4.47</td>\n            </tr>\n            <tr>\n                        <th id=\"T_4d05e3e6_c1b7_11ea_9b01_acbc327c7113level0_row1\" class=\"row_heading level0 row1\" >Male</th>\n                        <td id=\"T_4d05e3e6_c1b7_11ea_9b01_acbc327c7113row1_col0\" class=\"data row1 col0\" >652</td>\n                        <td id=\"T_4d05e3e6_c1b7_11ea_9b01_acbc327c7113row1_col1\" class=\"data row1 col1\" >$3.02</td>\n                        <td id=\"T_4d05e3e6_c1b7_11ea_9b01_acbc327c7113row1_col2\" class=\"data row1 col2\" >$1,967.64</td>\n                        <td id=\"T_4d05e3e6_c1b7_11ea_9b01_acbc327c7113row1_col3\" class=\"data row1 col3\" >$4.07</td>\n            </tr>\n            <tr>\n                        <th id=\"T_4d05e3e6_c1b7_11ea_9b01_acbc327c7113level0_row2\" class=\"row_heading level0 row2\" >Other / Non-Disclosed</th>\n                        <td id=\"T_4d05e3e6_c1b7_11ea_9b01_acbc327c7113row2_col0\" class=\"data row2 col0\" >15</td>\n                        <td id=\"T_4d05e3e6_c1b7_11ea_9b01_acbc327c7113row2_col1\" class=\"data row2 col1\" >$3.35</td>\n                        <td id=\"T_4d05e3e6_c1b7_11ea_9b01_acbc327c7113row2_col2\" class=\"data row2 col2\" >$50.19</td>\n                        <td id=\"T_4d05e3e6_c1b7_11ea_9b01_acbc327c7113row2_col3\" class=\"data row2 col3\" >$4.56</td>\n            </tr>\n    </tbody></table>"
     },
     "metadata": {},
     "execution_count": 18
    }
   ],
   "source": [
    "# The following code allowed us to group our data by gender. \n",
    "player_gender = purchase_data.groupby([\"Gender\"])\n",
    "\n",
    "# The following code allowed us to calculate all the numerical values needed to create our dataframe.\n",
    "gender_count = player_gender[\"Purchase ID\"].count()\n",
    "average_price = player_gender[\"Price\"].mean()\n",
    "total_price = player_gender[\"Price\"].sum()\n",
    "\n",
    "player_gender_df = purchase_data[[\"SN\", \"Gender\"]].drop_duplicates()\n",
    "gender_count_2 = player_gender_df[\"Gender\"].value_counts()\n",
    "average_price_per_person = total_price/gender_count_2\n",
    "\n",
    "# The following code allowed us to create our dataframe including the previously stored variables with \n",
    "# formatting it and setting our index column as the index.\n",
    "raw_purchase_analysis_gender = pd.DataFrame({\"Purchase Count\": gender_count,\n",
    "                                             \"Average Purchase Price\": average_price,\n",
    "                                             \"Total Purchase Value\": total_price,\n",
    "                                             \"Avg Total Purchase per Person\": average_price_per_person,\n",
    "                                            })\n",
    "\n",
    "purchase_analysis_gender = raw_purchase_analysis_gender.style.format({\"Average Purchase Price\": (\"${:.2f}\"), \n",
    "                                                                      \"Total Purchase Value\": (\"${:,.2f}\"), \n",
    "                                                                      \"Avg Total Purchase per Person\": (\"${:.2f}\")\n",
    "                                                                     })\n",
    "\n",
    "purchase_analysis_gender"
   ]
  },
  {
   "cell_type": "markdown",
   "metadata": {},
   "source": [
    "## Age Demographics"
   ]
  },
  {
   "cell_type": "markdown",
   "metadata": {},
   "source": [
    "* Establish bins for ages\n",
    "\n",
    "\n",
    "* Categorize the existing players using the age bins. Hint: use pd.cut()\n",
    "\n",
    "\n",
    "* Calculate the numbers and percentages by age group\n",
    "\n",
    "\n",
    "* Create a summary data frame to hold the results\n",
    "\n",
    "\n",
    "* Optional: round the percentage column to two decimal points\n",
    "\n",
    "\n",
    "* Display Age Demographics Table\n"
   ]
  },
  {
   "cell_type": "code",
   "execution_count": 19,
   "metadata": {},
   "outputs": [
    {
     "output_type": "execute_result",
     "data": {
      "text/plain": "<pandas.io.formats.style.Styler at 0x10ec79790>",
      "text/html": "<style  type=\"text/css\" >\n</style><table id=\"T_50400f50_c1b7_11ea_9b01_acbc327c7113\" ><thead>    <tr>        <th class=\"blank level0\" ></th>        <th class=\"col_heading level0 col0\" >Total Count</th>        <th class=\"col_heading level0 col1\" >Percentage of Players</th>    </tr></thead><tbody>\n                <tr>\n                        <th id=\"T_50400f50_c1b7_11ea_9b01_acbc327c7113level0_row0\" class=\"row_heading level0 row0\" ><10</th>\n                        <td id=\"T_50400f50_c1b7_11ea_9b01_acbc327c7113row0_col0\" class=\"data row0 col0\" >17</td>\n                        <td id=\"T_50400f50_c1b7_11ea_9b01_acbc327c7113row0_col1\" class=\"data row0 col1\" >2.95%</td>\n            </tr>\n            <tr>\n                        <th id=\"T_50400f50_c1b7_11ea_9b01_acbc327c7113level0_row1\" class=\"row_heading level0 row1\" >10-14</th>\n                        <td id=\"T_50400f50_c1b7_11ea_9b01_acbc327c7113row1_col0\" class=\"data row1 col0\" >22</td>\n                        <td id=\"T_50400f50_c1b7_11ea_9b01_acbc327c7113row1_col1\" class=\"data row1 col1\" >3.82%</td>\n            </tr>\n            <tr>\n                        <th id=\"T_50400f50_c1b7_11ea_9b01_acbc327c7113level0_row2\" class=\"row_heading level0 row2\" >15-19</th>\n                        <td id=\"T_50400f50_c1b7_11ea_9b01_acbc327c7113row2_col0\" class=\"data row2 col0\" >107</td>\n                        <td id=\"T_50400f50_c1b7_11ea_9b01_acbc327c7113row2_col1\" class=\"data row2 col1\" >18.58%</td>\n            </tr>\n            <tr>\n                        <th id=\"T_50400f50_c1b7_11ea_9b01_acbc327c7113level0_row3\" class=\"row_heading level0 row3\" >20-24</th>\n                        <td id=\"T_50400f50_c1b7_11ea_9b01_acbc327c7113row3_col0\" class=\"data row3 col0\" >258</td>\n                        <td id=\"T_50400f50_c1b7_11ea_9b01_acbc327c7113row3_col1\" class=\"data row3 col1\" >44.79%</td>\n            </tr>\n            <tr>\n                        <th id=\"T_50400f50_c1b7_11ea_9b01_acbc327c7113level0_row4\" class=\"row_heading level0 row4\" >25-29</th>\n                        <td id=\"T_50400f50_c1b7_11ea_9b01_acbc327c7113row4_col0\" class=\"data row4 col0\" >77</td>\n                        <td id=\"T_50400f50_c1b7_11ea_9b01_acbc327c7113row4_col1\" class=\"data row4 col1\" >13.37%</td>\n            </tr>\n            <tr>\n                        <th id=\"T_50400f50_c1b7_11ea_9b01_acbc327c7113level0_row5\" class=\"row_heading level0 row5\" >30-34</th>\n                        <td id=\"T_50400f50_c1b7_11ea_9b01_acbc327c7113row5_col0\" class=\"data row5 col0\" >52</td>\n                        <td id=\"T_50400f50_c1b7_11ea_9b01_acbc327c7113row5_col1\" class=\"data row5 col1\" >9.03%</td>\n            </tr>\n            <tr>\n                        <th id=\"T_50400f50_c1b7_11ea_9b01_acbc327c7113level0_row6\" class=\"row_heading level0 row6\" >35-39</th>\n                        <td id=\"T_50400f50_c1b7_11ea_9b01_acbc327c7113row6_col0\" class=\"data row6 col0\" >31</td>\n                        <td id=\"T_50400f50_c1b7_11ea_9b01_acbc327c7113row6_col1\" class=\"data row6 col1\" >5.38%</td>\n            </tr>\n            <tr>\n                        <th id=\"T_50400f50_c1b7_11ea_9b01_acbc327c7113level0_row7\" class=\"row_heading level0 row7\" >40+</th>\n                        <td id=\"T_50400f50_c1b7_11ea_9b01_acbc327c7113row7_col0\" class=\"data row7 col0\" >12</td>\n                        <td id=\"T_50400f50_c1b7_11ea_9b01_acbc327c7113row7_col1\" class=\"data row7 col1\" >2.08%</td>\n            </tr>\n    </tbody></table>"
     },
     "metadata": {},
     "execution_count": 19
    }
   ],
   "source": [
    "# The following code allowed us to create our bins.\n",
    "bins = [0, 9, 14, 19, 24, 29, 34, 39, float(\"inf\")]\n",
    "\n",
    "# The following code allowed us to create labels for these bins.\n",
    "group_labels = [\"<10\", \"10-14\", \"15-19\", \"20-24\", \"25-29\", \"30-34\", \"35-39\", \"40+\"]\n",
    "\n",
    "# The following code allowed us to slice the data and place it with unique data created by dropping duplicates.\n",
    "player_age = purchase_data[[\"SN\", \"Age\"]].drop_duplicates()\n",
    "player_age[\"Age Group\"] = pd.cut(player_age[\"Age\"], bins, labels=group_labels)\n",
    "\n",
    "# The following code allowed us to calculate all the numerical values needed to create our dataframe.\n",
    "index = group_labels\n",
    "age_count = player_age[\"Age Group\"].value_counts()\n",
    "percentage_age = age_count/len(player_age)\n",
    "\n",
    "# The following code allowed us to create our dataframe with formatting it and setting the bins as the index. \n",
    "raw_age_demographics = pd.DataFrame({\"Total Count\": age_count,\n",
    "                                     \"Percentage of Players\": percentage_age},\n",
    "                                     index=index)\n",
    "\n",
    "age_demographics = raw_age_demographics.style.format({'Percentage of Players': (\"{:.2%}\")})\n",
    "age_demographics"
   ]
  },
  {
   "cell_type": "markdown",
   "metadata": {},
   "source": [
    "## Purchasing Analysis (Age)"
   ]
  },
  {
   "cell_type": "markdown",
   "metadata": {},
   "source": [
    "* Bin the purchase_data data frame by age\n",
    "\n",
    "\n",
    "* Run basic calculations to obtain purchase count, avg. purchase price, avg. purchase total per person etc. in the table below\n",
    "\n",
    "\n",
    "* Create a summary data frame to hold the results\n",
    "\n",
    "\n",
    "* Optional: give the displayed data cleaner formatting\n",
    "\n",
    "\n",
    "* Display the summary data frame"
   ]
  },
  {
   "cell_type": "code",
   "execution_count": 24,
   "metadata": {},
   "outputs": [
    {
     "output_type": "execute_result",
     "data": {
      "text/plain": "<pandas.io.formats.style.Styler at 0x11f1a6c90>",
      "text/html": "<style  type=\"text/css\" >\n</style><table id=\"T_e5817dce_c1c1_11ea_9b01_acbc327c7113\" ><thead>    <tr>        <th class=\"blank level0\" ></th>        <th class=\"col_heading level0 col0\" >Puchase Count</th>        <th class=\"col_heading level0 col1\" >Average Purchase Price</th>        <th class=\"col_heading level0 col2\" >Total Purchase Value</th>        <th class=\"col_heading level0 col3\" >Avg Total Purchase per Person</th>    </tr>    <tr>        <th class=\"index_name level0\" >Age Ranges</th>        <th class=\"blank\" ></th>        <th class=\"blank\" ></th>        <th class=\"blank\" ></th>        <th class=\"blank\" ></th>    </tr></thead><tbody>\n                <tr>\n                        <th id=\"T_e5817dce_c1c1_11ea_9b01_acbc327c7113level0_row0\" class=\"row_heading level0 row0\" ><10</th>\n                        <td id=\"T_e5817dce_c1c1_11ea_9b01_acbc327c7113row0_col0\" class=\"data row0 col0\" >23</td>\n                        <td id=\"T_e5817dce_c1c1_11ea_9b01_acbc327c7113row0_col1\" class=\"data row0 col1\" >$3.35</td>\n                        <td id=\"T_e5817dce_c1c1_11ea_9b01_acbc327c7113row0_col2\" class=\"data row0 col2\" >$77.13</td>\n                        <td id=\"T_e5817dce_c1c1_11ea_9b01_acbc327c7113row0_col3\" class=\"data row0 col3\" >$4.54</td>\n            </tr>\n            <tr>\n                        <th id=\"T_e5817dce_c1c1_11ea_9b01_acbc327c7113level0_row1\" class=\"row_heading level0 row1\" >10-14</th>\n                        <td id=\"T_e5817dce_c1c1_11ea_9b01_acbc327c7113row1_col0\" class=\"data row1 col0\" >28</td>\n                        <td id=\"T_e5817dce_c1c1_11ea_9b01_acbc327c7113row1_col1\" class=\"data row1 col1\" >$2.96</td>\n                        <td id=\"T_e5817dce_c1c1_11ea_9b01_acbc327c7113row1_col2\" class=\"data row1 col2\" >$82.78</td>\n                        <td id=\"T_e5817dce_c1c1_11ea_9b01_acbc327c7113row1_col3\" class=\"data row1 col3\" >$3.76</td>\n            </tr>\n            <tr>\n                        <th id=\"T_e5817dce_c1c1_11ea_9b01_acbc327c7113level0_row2\" class=\"row_heading level0 row2\" >15-19</th>\n                        <td id=\"T_e5817dce_c1c1_11ea_9b01_acbc327c7113row2_col0\" class=\"data row2 col0\" >136</td>\n                        <td id=\"T_e5817dce_c1c1_11ea_9b01_acbc327c7113row2_col1\" class=\"data row2 col1\" >$3.04</td>\n                        <td id=\"T_e5817dce_c1c1_11ea_9b01_acbc327c7113row2_col2\" class=\"data row2 col2\" >$412.89</td>\n                        <td id=\"T_e5817dce_c1c1_11ea_9b01_acbc327c7113row2_col3\" class=\"data row2 col3\" >$3.86</td>\n            </tr>\n            <tr>\n                        <th id=\"T_e5817dce_c1c1_11ea_9b01_acbc327c7113level0_row3\" class=\"row_heading level0 row3\" >20-24</th>\n                        <td id=\"T_e5817dce_c1c1_11ea_9b01_acbc327c7113row3_col0\" class=\"data row3 col0\" >365</td>\n                        <td id=\"T_e5817dce_c1c1_11ea_9b01_acbc327c7113row3_col1\" class=\"data row3 col1\" >$3.05</td>\n                        <td id=\"T_e5817dce_c1c1_11ea_9b01_acbc327c7113row3_col2\" class=\"data row3 col2\" >$1,114.06</td>\n                        <td id=\"T_e5817dce_c1c1_11ea_9b01_acbc327c7113row3_col3\" class=\"data row3 col3\" >$4.32</td>\n            </tr>\n            <tr>\n                        <th id=\"T_e5817dce_c1c1_11ea_9b01_acbc327c7113level0_row4\" class=\"row_heading level0 row4\" >25-29</th>\n                        <td id=\"T_e5817dce_c1c1_11ea_9b01_acbc327c7113row4_col0\" class=\"data row4 col0\" >101</td>\n                        <td id=\"T_e5817dce_c1c1_11ea_9b01_acbc327c7113row4_col1\" class=\"data row4 col1\" >$2.90</td>\n                        <td id=\"T_e5817dce_c1c1_11ea_9b01_acbc327c7113row4_col2\" class=\"data row4 col2\" >$293.00</td>\n                        <td id=\"T_e5817dce_c1c1_11ea_9b01_acbc327c7113row4_col3\" class=\"data row4 col3\" >$3.81</td>\n            </tr>\n            <tr>\n                        <th id=\"T_e5817dce_c1c1_11ea_9b01_acbc327c7113level0_row5\" class=\"row_heading level0 row5\" >30-34</th>\n                        <td id=\"T_e5817dce_c1c1_11ea_9b01_acbc327c7113row5_col0\" class=\"data row5 col0\" >73</td>\n                        <td id=\"T_e5817dce_c1c1_11ea_9b01_acbc327c7113row5_col1\" class=\"data row5 col1\" >$2.93</td>\n                        <td id=\"T_e5817dce_c1c1_11ea_9b01_acbc327c7113row5_col2\" class=\"data row5 col2\" >$214.00</td>\n                        <td id=\"T_e5817dce_c1c1_11ea_9b01_acbc327c7113row5_col3\" class=\"data row5 col3\" >$4.12</td>\n            </tr>\n            <tr>\n                        <th id=\"T_e5817dce_c1c1_11ea_9b01_acbc327c7113level0_row6\" class=\"row_heading level0 row6\" >35-39</th>\n                        <td id=\"T_e5817dce_c1c1_11ea_9b01_acbc327c7113row6_col0\" class=\"data row6 col0\" >41</td>\n                        <td id=\"T_e5817dce_c1c1_11ea_9b01_acbc327c7113row6_col1\" class=\"data row6 col1\" >$3.60</td>\n                        <td id=\"T_e5817dce_c1c1_11ea_9b01_acbc327c7113row6_col2\" class=\"data row6 col2\" >$147.67</td>\n                        <td id=\"T_e5817dce_c1c1_11ea_9b01_acbc327c7113row6_col3\" class=\"data row6 col3\" >$4.76</td>\n            </tr>\n            <tr>\n                        <th id=\"T_e5817dce_c1c1_11ea_9b01_acbc327c7113level0_row7\" class=\"row_heading level0 row7\" >40+</th>\n                        <td id=\"T_e5817dce_c1c1_11ea_9b01_acbc327c7113row7_col0\" class=\"data row7 col0\" >13</td>\n                        <td id=\"T_e5817dce_c1c1_11ea_9b01_acbc327c7113row7_col1\" class=\"data row7 col1\" >$2.94</td>\n                        <td id=\"T_e5817dce_c1c1_11ea_9b01_acbc327c7113row7_col2\" class=\"data row7 col2\" >$38.24</td>\n                        <td id=\"T_e5817dce_c1c1_11ea_9b01_acbc327c7113row7_col3\" class=\"data row7 col3\" >$3.19</td>\n            </tr>\n    </tbody></table>"
     },
     "metadata": {},
     "execution_count": 24
    }
   ],
   "source": [
    "# The following code allowed us to create our bins.\n",
    "bins = [0, 9, 14, 19, 24, 29, 34, 39, float(\"inf\")]\n",
    "\n",
    "# The following code allowed us to create labels for these bins.\n",
    "group_labels = [\"<10\", \"10-14\", \"15-19\", \"20-24\", \"25-29\", \"30-34\", \"35-39\", \"40+\"]\n",
    "\n",
    "# The following code allowed us to slice the data and group it accordingly with the bins.\n",
    "purchase_data[\"Age Ranges\"] = pd.cut(purchase_data[\"Age\"], bins, labels=group_labels)\n",
    "\n",
    "purchase_data_df = purchase_data.groupby(\"Age Ranges\")\n",
    "\n",
    "# The following code allowed us to calculate all the numerical values needed to create our dataframe.\n",
    "age_count = purchase_data_df[\"Age\"].count()\n",
    "mean_average_purchase = purchase_data_df[\"Price\"].mean()\n",
    "sum_average_purchase = purchase_data_df[\"Price\"].sum()\n",
    "player_demo = purchase_data[[\"SN\", \"Age\"]].drop_duplicates()\n",
    "player_demo[\"Age Group\"] = pd.cut(player_demo[\"Age\"], bins, labels=group_labels)\n",
    "age_count_unique = player_demo[\"Age Group\"].value_counts()\n",
    "average_purchase_per_person = purchase_data_df[\"Price\"].sum()/age_count_unique\n",
    "\n",
    "# The following code allowed us to create our dataframe with formatting it and setting the bins column as the index. \n",
    "raw_purchase_analysis_age = pd.DataFrame({\"Age Ranges\": group_labels,\n",
    "                                          \"Puchase Count\": age_count,\n",
    "                                          \"Average Purchase Price\": mean_average_purchase,\n",
    "                                          \"Total Purchase Value\": sum_average_purchase,\n",
    "                                          \"Avg Total Purchase per Person\": average_purchase_per_person\n",
    "                                         })\n",
    "\n",
    "intermediary_purchase_analysis_age = raw_purchase_analysis_age.set_index(\"Age Ranges\")\n",
    "\n",
    "purchase_analysis_age = intermediary_purchase_analysis_age.style.format({\"Average Purchase Price\": (\"${:.2f}\"), \n",
    "                                                                         \"Total Purchase Value\": (\"${:,.2f}\"), \n",
    "                                                                         \"Avg Total Purchase per Person\": (\"${:.2f}\")\n",
    "                                                                        })\n",
    "                                                                        \n",
    "purchase_analysis_age"
   ]
  },
  {
   "cell_type": "markdown",
   "metadata": {},
   "source": [
    "## Top Spenders"
   ]
  },
  {
   "cell_type": "markdown",
   "metadata": {},
   "source": [
    "* Run basic calculations to obtain the results in the table below\n",
    "\n",
    "\n",
    "* Create a summary data frame to hold the results\n",
    "\n",
    "\n",
    "* Sort the total purchase value column in descending order\n",
    "\n",
    "\n",
    "* Optional: give the displayed data cleaner formatting\n",
    "\n",
    "\n",
    "* Display a preview of the summary data frame\n",
    "\n"
   ]
  },
  {
   "cell_type": "code",
   "execution_count": 21,
   "metadata": {},
   "outputs": [
    {
     "output_type": "execute_result",
     "data": {
      "text/plain": "<pandas.io.formats.style.Styler at 0x11f560b10>",
      "text/html": "<style  type=\"text/css\" >\n</style><table id=\"T_566346c2_c1b7_11ea_9b01_acbc327c7113\" ><thead>    <tr>        <th class=\"blank level0\" ></th>        <th class=\"col_heading level0 col0\" >Purchase Count</th>        <th class=\"col_heading level0 col1\" >Average Purchase Price</th>        <th class=\"col_heading level0 col2\" >Total Purchase Value</th>    </tr>    <tr>        <th class=\"index_name level0\" >SN</th>        <th class=\"blank\" ></th>        <th class=\"blank\" ></th>        <th class=\"blank\" ></th>    </tr></thead><tbody>\n                <tr>\n                        <th id=\"T_566346c2_c1b7_11ea_9b01_acbc327c7113level0_row0\" class=\"row_heading level0 row0\" >Lisosia93</th>\n                        <td id=\"T_566346c2_c1b7_11ea_9b01_acbc327c7113row0_col0\" class=\"data row0 col0\" >5</td>\n                        <td id=\"T_566346c2_c1b7_11ea_9b01_acbc327c7113row0_col1\" class=\"data row0 col1\" >$3.79</td>\n                        <td id=\"T_566346c2_c1b7_11ea_9b01_acbc327c7113row0_col2\" class=\"data row0 col2\" >$18.96</td>\n            </tr>\n            <tr>\n                        <th id=\"T_566346c2_c1b7_11ea_9b01_acbc327c7113level0_row1\" class=\"row_heading level0 row1\" >Idastidru52</th>\n                        <td id=\"T_566346c2_c1b7_11ea_9b01_acbc327c7113row1_col0\" class=\"data row1 col0\" >4</td>\n                        <td id=\"T_566346c2_c1b7_11ea_9b01_acbc327c7113row1_col1\" class=\"data row1 col1\" >$3.86</td>\n                        <td id=\"T_566346c2_c1b7_11ea_9b01_acbc327c7113row1_col2\" class=\"data row1 col2\" >$15.45</td>\n            </tr>\n            <tr>\n                        <th id=\"T_566346c2_c1b7_11ea_9b01_acbc327c7113level0_row2\" class=\"row_heading level0 row2\" >Chamjask73</th>\n                        <td id=\"T_566346c2_c1b7_11ea_9b01_acbc327c7113row2_col0\" class=\"data row2 col0\" >3</td>\n                        <td id=\"T_566346c2_c1b7_11ea_9b01_acbc327c7113row2_col1\" class=\"data row2 col1\" >$4.61</td>\n                        <td id=\"T_566346c2_c1b7_11ea_9b01_acbc327c7113row2_col2\" class=\"data row2 col2\" >$13.83</td>\n            </tr>\n            <tr>\n                        <th id=\"T_566346c2_c1b7_11ea_9b01_acbc327c7113level0_row3\" class=\"row_heading level0 row3\" >Iral74</th>\n                        <td id=\"T_566346c2_c1b7_11ea_9b01_acbc327c7113row3_col0\" class=\"data row3 col0\" >4</td>\n                        <td id=\"T_566346c2_c1b7_11ea_9b01_acbc327c7113row3_col1\" class=\"data row3 col1\" >$3.40</td>\n                        <td id=\"T_566346c2_c1b7_11ea_9b01_acbc327c7113row3_col2\" class=\"data row3 col2\" >$13.62</td>\n            </tr>\n            <tr>\n                        <th id=\"T_566346c2_c1b7_11ea_9b01_acbc327c7113level0_row4\" class=\"row_heading level0 row4\" >Iskadarya95</th>\n                        <td id=\"T_566346c2_c1b7_11ea_9b01_acbc327c7113row4_col0\" class=\"data row4 col0\" >3</td>\n                        <td id=\"T_566346c2_c1b7_11ea_9b01_acbc327c7113row4_col1\" class=\"data row4 col1\" >$4.37</td>\n                        <td id=\"T_566346c2_c1b7_11ea_9b01_acbc327c7113row4_col2\" class=\"data row4 col2\" >$13.10</td>\n            </tr>\n    </tbody></table>"
     },
     "metadata": {},
     "execution_count": 21
    }
   ],
   "source": [
    "# The following code allowed us to group our data by player nickname. \n",
    "purchase_data_df = purchase_data.groupby(\"SN\")\n",
    "\n",
    "# The following code allowed us to calculate all the numerical values needed to create our dataframe.\n",
    "purchase_count = purchase_data_df[\"SN\"].count()\n",
    "average_price = purchase_data_df[\"Price\"].mean()\n",
    "total_purchase_value = purchase_data_df[\"Price\"].sum()\n",
    "\n",
    "# The following code allowed us to create our dataframe by sorting it from the highest to the lowest\n",
    "# total purchase value with exctracting its header and formating it. \n",
    "raw_top_spender = pd.DataFrame({\"Purchase Count\": purchase_count,\n",
    "                                \"Average Purchase Price\": average_price,\n",
    "                                \"Total Purchase Value\": total_purchase_value,\n",
    "                               })\n",
    "\n",
    "intermediary_top_spender = raw_top_spender.sort_values(\"Total Purchase Value\", ascending=False)\n",
    "\n",
    "intermediary_top_spender_2 = intermediary_top_spender.head()\n",
    "\n",
    "top_spender = intermediary_top_spender_2.style.format({\"Average Purchase Price\": (\"${:.2f}\"), \n",
    "                                                       \"Total Purchase Value\": (\"${:,.2f}\"), \n",
    "                                                      })\n",
    "\n",
    "top_spender            "
   ]
  },
  {
   "cell_type": "markdown",
   "metadata": {},
   "source": [
    "## Most Popular Items"
   ]
  },
  {
   "cell_type": "markdown",
   "metadata": {},
   "source": [
    "* Retrieve the Item ID, Item Name, and Item Price columns\n",
    "\n",
    "\n",
    "* Group by Item ID and Item Name. Perform calculations to obtain purchase count, item price, and total purchase value\n",
    "\n",
    "\n",
    "* Create a summary data frame to hold the results\n",
    "\n",
    "\n",
    "* Sort the purchase count column in descending order\n",
    "\n",
    "\n",
    "* Optional: give the displayed data cleaner formatting\n",
    "\n",
    "\n",
    "* Display a preview of the summary data frame\n",
    "\n"
   ]
  },
  {
   "cell_type": "code",
   "execution_count": 22,
   "metadata": {},
   "outputs": [
    {
     "output_type": "execute_result",
     "data": {
      "text/plain": "<pandas.io.formats.style.Styler at 0x11e487510>",
      "text/html": "<style  type=\"text/css\" >\n</style><table id=\"T_59c3deda_c1b7_11ea_9b01_acbc327c7113\" ><thead>    <tr>        <th class=\"blank\" ></th>        <th class=\"blank level0\" ></th>        <th class=\"col_heading level0 col0\" >Purchase Count</th>        <th class=\"col_heading level0 col1\" >Item Price</th>        <th class=\"col_heading level0 col2\" >Total Purchase Value</th>    </tr>    <tr>        <th class=\"index_name level0\" >Item ID</th>        <th class=\"index_name level1\" >Item Name</th>        <th class=\"blank\" ></th>        <th class=\"blank\" ></th>        <th class=\"blank\" ></th>    </tr></thead><tbody>\n                <tr>\n                        <th id=\"T_59c3deda_c1b7_11ea_9b01_acbc327c7113level0_row0\" class=\"row_heading level0 row0\" >92</th>\n                        <th id=\"T_59c3deda_c1b7_11ea_9b01_acbc327c7113level1_row0\" class=\"row_heading level1 row0\" >Final Critic</th>\n                        <td id=\"T_59c3deda_c1b7_11ea_9b01_acbc327c7113row0_col0\" class=\"data row0 col0\" >13</td>\n                        <td id=\"T_59c3deda_c1b7_11ea_9b01_acbc327c7113row0_col1\" class=\"data row0 col1\" >$4.61</td>\n                        <td id=\"T_59c3deda_c1b7_11ea_9b01_acbc327c7113row0_col2\" class=\"data row0 col2\" >$59.99</td>\n            </tr>\n            <tr>\n                        <th id=\"T_59c3deda_c1b7_11ea_9b01_acbc327c7113level0_row1\" class=\"row_heading level0 row1\" >178</th>\n                        <th id=\"T_59c3deda_c1b7_11ea_9b01_acbc327c7113level1_row1\" class=\"row_heading level1 row1\" >Oathbreaker, Last Hope of the Breaking Storm</th>\n                        <td id=\"T_59c3deda_c1b7_11ea_9b01_acbc327c7113row1_col0\" class=\"data row1 col0\" >12</td>\n                        <td id=\"T_59c3deda_c1b7_11ea_9b01_acbc327c7113row1_col1\" class=\"data row1 col1\" >$4.23</td>\n                        <td id=\"T_59c3deda_c1b7_11ea_9b01_acbc327c7113row1_col2\" class=\"data row1 col2\" >$50.76</td>\n            </tr>\n            <tr>\n                        <th id=\"T_59c3deda_c1b7_11ea_9b01_acbc327c7113level0_row2\" class=\"row_heading level0 row2\" >145</th>\n                        <th id=\"T_59c3deda_c1b7_11ea_9b01_acbc327c7113level1_row2\" class=\"row_heading level1 row2\" >Fiery Glass Crusader</th>\n                        <td id=\"T_59c3deda_c1b7_11ea_9b01_acbc327c7113row2_col0\" class=\"data row2 col0\" >9</td>\n                        <td id=\"T_59c3deda_c1b7_11ea_9b01_acbc327c7113row2_col1\" class=\"data row2 col1\" >$4.58</td>\n                        <td id=\"T_59c3deda_c1b7_11ea_9b01_acbc327c7113row2_col2\" class=\"data row2 col2\" >$41.22</td>\n            </tr>\n            <tr>\n                        <th id=\"T_59c3deda_c1b7_11ea_9b01_acbc327c7113level0_row3\" class=\"row_heading level0 row3\" >132</th>\n                        <th id=\"T_59c3deda_c1b7_11ea_9b01_acbc327c7113level1_row3\" class=\"row_heading level1 row3\" >Persuasion</th>\n                        <td id=\"T_59c3deda_c1b7_11ea_9b01_acbc327c7113row3_col0\" class=\"data row3 col0\" >9</td>\n                        <td id=\"T_59c3deda_c1b7_11ea_9b01_acbc327c7113row3_col1\" class=\"data row3 col1\" >$3.22</td>\n                        <td id=\"T_59c3deda_c1b7_11ea_9b01_acbc327c7113row3_col2\" class=\"data row3 col2\" >$28.99</td>\n            </tr>\n            <tr>\n                        <th id=\"T_59c3deda_c1b7_11ea_9b01_acbc327c7113level0_row4\" class=\"row_heading level0 row4\" >108</th>\n                        <th id=\"T_59c3deda_c1b7_11ea_9b01_acbc327c7113level1_row4\" class=\"row_heading level1 row4\" >Extraction, Quickblade Of Trembling Hands</th>\n                        <td id=\"T_59c3deda_c1b7_11ea_9b01_acbc327c7113row4_col0\" class=\"data row4 col0\" >9</td>\n                        <td id=\"T_59c3deda_c1b7_11ea_9b01_acbc327c7113row4_col1\" class=\"data row4 col1\" >$3.53</td>\n                        <td id=\"T_59c3deda_c1b7_11ea_9b01_acbc327c7113row4_col2\" class=\"data row4 col2\" >$31.77</td>\n            </tr>\n    </tbody></table>"
     },
     "metadata": {},
     "execution_count": 22
    }
   ],
   "source": [
    "# The following code allowed us to group our data by item ID and item name.\n",
    "purchase_data_df = purchase_data.groupby([\"Item ID\", \"Item Name\"])\n",
    "\n",
    "# The following code allowed us to calculate all the numerical values needed to create our dataframe.\n",
    "purchase_count = purchase_data_df[\"Item Name\"].count()\n",
    "average_price = purchase_data_df[\"Price\"].mean()\n",
    "total_purchase_value = purchase_data_df[\"Price\"].sum()\n",
    "\n",
    "# The following code allowed us to create our dataframe by sorting it from the highest to the lowest\n",
    "# purchase count with exctracting its header and formating it. \n",
    "raw_most_popular_item = pd.DataFrame({\"Purchase Count\": purchase_count,\n",
    "                                      \"Item Price\": average_price,\n",
    "                                      \"Total Purchase Value\": total_purchase_value,\n",
    "                                     })\n",
    "\n",
    "intermediary_most_popular_item = raw_most_popular_item.sort_values(\"Purchase Count\", ascending=False)\n",
    "\n",
    "intermediary_most_popular_item_2 = intermediary_most_popular_item.head()\n",
    "\n",
    "most_popular_item = intermediary_most_popular_item_2.style.format({\"Item Price\": (\"${:.2f}\"), \n",
    "                                                                   \"Total Purchase Value\": (\"${:,.2f}\"), \n",
    "                                                                  })\n",
    "\n",
    "most_popular_item"
   ]
  },
  {
   "cell_type": "markdown",
   "metadata": {},
   "source": [
    "## Most Profitable Items"
   ]
  },
  {
   "cell_type": "markdown",
   "metadata": {},
   "source": [
    "* Sort the above table by total purchase value in descending order\n",
    "\n",
    "\n",
    "* Optional: give the displayed data cleaner formatting\n",
    "\n",
    "\n",
    "* Display a preview of the data frame\n",
    "\n"
   ]
  },
  {
   "cell_type": "code",
   "execution_count": 23,
   "metadata": {
    "scrolled": true
   },
   "outputs": [
    {
     "output_type": "execute_result",
     "data": {
      "text/plain": "<pandas.io.formats.style.Styler at 0x11f800d10>",
      "text/html": "<style  type=\"text/css\" >\n</style><table id=\"T_5cdc94a4_c1b7_11ea_9b01_acbc327c7113\" ><thead>    <tr>        <th class=\"blank\" ></th>        <th class=\"blank level0\" ></th>        <th class=\"col_heading level0 col0\" >Purchase Count</th>        <th class=\"col_heading level0 col1\" >Item Price</th>        <th class=\"col_heading level0 col2\" >Total Purchase Value</th>    </tr>    <tr>        <th class=\"index_name level0\" >Item ID</th>        <th class=\"index_name level1\" >Item Name</th>        <th class=\"blank\" ></th>        <th class=\"blank\" ></th>        <th class=\"blank\" ></th>    </tr></thead><tbody>\n                <tr>\n                        <th id=\"T_5cdc94a4_c1b7_11ea_9b01_acbc327c7113level0_row0\" class=\"row_heading level0 row0\" >92</th>\n                        <th id=\"T_5cdc94a4_c1b7_11ea_9b01_acbc327c7113level1_row0\" class=\"row_heading level1 row0\" >Final Critic</th>\n                        <td id=\"T_5cdc94a4_c1b7_11ea_9b01_acbc327c7113row0_col0\" class=\"data row0 col0\" >13</td>\n                        <td id=\"T_5cdc94a4_c1b7_11ea_9b01_acbc327c7113row0_col1\" class=\"data row0 col1\" >$4.61</td>\n                        <td id=\"T_5cdc94a4_c1b7_11ea_9b01_acbc327c7113row0_col2\" class=\"data row0 col2\" >$59.99</td>\n            </tr>\n            <tr>\n                        <th id=\"T_5cdc94a4_c1b7_11ea_9b01_acbc327c7113level0_row1\" class=\"row_heading level0 row1\" >178</th>\n                        <th id=\"T_5cdc94a4_c1b7_11ea_9b01_acbc327c7113level1_row1\" class=\"row_heading level1 row1\" >Oathbreaker, Last Hope of the Breaking Storm</th>\n                        <td id=\"T_5cdc94a4_c1b7_11ea_9b01_acbc327c7113row1_col0\" class=\"data row1 col0\" >12</td>\n                        <td id=\"T_5cdc94a4_c1b7_11ea_9b01_acbc327c7113row1_col1\" class=\"data row1 col1\" >$4.23</td>\n                        <td id=\"T_5cdc94a4_c1b7_11ea_9b01_acbc327c7113row1_col2\" class=\"data row1 col2\" >$50.76</td>\n            </tr>\n            <tr>\n                        <th id=\"T_5cdc94a4_c1b7_11ea_9b01_acbc327c7113level0_row2\" class=\"row_heading level0 row2\" >82</th>\n                        <th id=\"T_5cdc94a4_c1b7_11ea_9b01_acbc327c7113level1_row2\" class=\"row_heading level1 row2\" >Nirvana</th>\n                        <td id=\"T_5cdc94a4_c1b7_11ea_9b01_acbc327c7113row2_col0\" class=\"data row2 col0\" >9</td>\n                        <td id=\"T_5cdc94a4_c1b7_11ea_9b01_acbc327c7113row2_col1\" class=\"data row2 col1\" >$4.90</td>\n                        <td id=\"T_5cdc94a4_c1b7_11ea_9b01_acbc327c7113row2_col2\" class=\"data row2 col2\" >$44.10</td>\n            </tr>\n            <tr>\n                        <th id=\"T_5cdc94a4_c1b7_11ea_9b01_acbc327c7113level0_row3\" class=\"row_heading level0 row3\" >145</th>\n                        <th id=\"T_5cdc94a4_c1b7_11ea_9b01_acbc327c7113level1_row3\" class=\"row_heading level1 row3\" >Fiery Glass Crusader</th>\n                        <td id=\"T_5cdc94a4_c1b7_11ea_9b01_acbc327c7113row3_col0\" class=\"data row3 col0\" >9</td>\n                        <td id=\"T_5cdc94a4_c1b7_11ea_9b01_acbc327c7113row3_col1\" class=\"data row3 col1\" >$4.58</td>\n                        <td id=\"T_5cdc94a4_c1b7_11ea_9b01_acbc327c7113row3_col2\" class=\"data row3 col2\" >$41.22</td>\n            </tr>\n            <tr>\n                        <th id=\"T_5cdc94a4_c1b7_11ea_9b01_acbc327c7113level0_row4\" class=\"row_heading level0 row4\" >103</th>\n                        <th id=\"T_5cdc94a4_c1b7_11ea_9b01_acbc327c7113level1_row4\" class=\"row_heading level1 row4\" >Singed Scalpel</th>\n                        <td id=\"T_5cdc94a4_c1b7_11ea_9b01_acbc327c7113row4_col0\" class=\"data row4 col0\" >8</td>\n                        <td id=\"T_5cdc94a4_c1b7_11ea_9b01_acbc327c7113row4_col1\" class=\"data row4 col1\" >$4.35</td>\n                        <td id=\"T_5cdc94a4_c1b7_11ea_9b01_acbc327c7113row4_col2\" class=\"data row4 col2\" >$34.80</td>\n            </tr>\n    </tbody></table>"
     },
     "metadata": {},
     "execution_count": 23
    }
   ],
   "source": [
    "# The following code allowed us to group our data by item ID and item name.\n",
    "purchase_data_df = purchase_data.groupby([\"Item ID\", \"Item Name\"])\n",
    "\n",
    "# The following code allowed us to calculate all the numerical values needed to create our dataframe.\n",
    "purchase_count = purchase_data_df[\"Item Name\"].count()\n",
    "average_price = purchase_data_df[\"Price\"].mean()\n",
    "total_purchase_value = purchase_data_df[\"Price\"].sum()\n",
    "\n",
    "# The following code allowed us to create our dataframe by sorting it from the highest to the lowest\n",
    "# total purchase value with exctracting its header and formating it. \n",
    "raw_most_profitable_item = pd.DataFrame({\"Purchase Count\": purchase_count,\n",
    "                                         \"Item Price\": average_price,\n",
    "                                         \"Total Purchase Value\": total_purchase_value,\n",
    "                                        })\n",
    "\n",
    "intermediary_most_profitable_item = raw_most_profitable_item.sort_values(\"Total Purchase Value\", ascending=False)\n",
    "\n",
    "intermediary_most_profitable_item_2 = intermediary_most_profitable_item.head()\n",
    "\n",
    "most_profitable_item = intermediary_most_profitable_item_2.style.format({\"Item Price\": (\"${:.2f}\"), \n",
    "                                                                         \"Total Purchase Value\": (\"${:,.2f}\"), \n",
    "                                                                        })\n",
    "\n",
    "most_profitable_item"
   ]
  }
 ],
 "metadata": {
  "anaconda-cloud": {},
  "kernel_info": {
   "name": "python3"
  },
  "kernelspec": {
   "display_name": "Python 3",
   "language": "python",
   "name": "python3"
  },
  "language_info": {
   "codemirror_mode": {
    "name": "ipython",
    "version": 3
   },
   "file_extension": ".py",
   "mimetype": "text/x-python",
   "name": "python",
   "nbconvert_exporter": "python",
   "pygments_lexer": "ipython3",
   "version": "3.8.3-final"
  },
  "latex_envs": {
   "LaTeX_envs_menu_present": true,
   "autoclose": false,
   "autocomplete": true,
   "bibliofile": "biblio.bib",
   "cite_by": "apalike",
   "current_citInitial": 1,
   "eqLabelWithNumbers": true,
   "eqNumInitial": 1,
   "hotkeys": {
    "equation": "Ctrl-E",
    "itemize": "Ctrl-I"
   },
   "labels_anchors": false,
   "latex_user_defs": false,
   "report_style_numbering": false,
   "user_envs_cfg": false
  },
  "nteract": {
   "version": "0.2.0"
  }
 },
 "nbformat": 4,
 "nbformat_minor": 2
}